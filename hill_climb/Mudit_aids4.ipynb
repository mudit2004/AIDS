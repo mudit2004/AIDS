{
 "cells": [
  {
   "cell_type": "markdown",
   "id": "cfd1379b",
   "metadata": {},
   "source": [
    "02.09.23\n",
    "LAB - 4"
   ]
  },
  {
   "cell_type": "code",
   "execution_count": 30,
   "id": "fc78ab63",
   "metadata": {},
   "outputs": [
    {
     "name": "stdout",
     "output_type": "stream",
     "text": [
      "BCDAEFAIBBGCJIMJThe maximun node is M\n"
     ]
    }
   ],
   "source": [
    "#Hill - climbing algorithm\n",
    "def Hill_climing(graph,start):\n",
    "    open_list = []\n",
    "    open_list.append(start)\n",
    "    while open_list:\n",
    "        current  = open_list.pop(0)\n",
    "        for neighbor in graph[current]:\n",
    "            print(neighbor,end='')\n",
    "            if heuristic(neighbor) >= heuristic(current):\n",
    "                current = neighbor\n",
    "                open_list.append(current)\n",
    "    return \"The maximun node is \"+str(current)\n",
    "\n",
    "\n",
    "def heuristic(node):\n",
    "    dictionay = {\n",
    "        'A':10,\n",
    "        'B':20,\n",
    "        'C':30,\n",
    "        'D':20,\n",
    "        'E':50,\n",
    "        'F':160,\n",
    "        'G':90,\n",
    "        'I':70,\n",
    "        'J':100,\n",
    "        'K':80,\n",
    "        'N':120,\n",
    "        'L':110,\n",
    "        'M':130\n",
    "    }\n",
    "    return dictionay[node] \n",
    "\n",
    "if __name__ == \"__main__\":\n",
    "    graph = {\n",
    "        'A':[('B'), ('C'),('D')],\n",
    "        'B':[('A'),('E'),('F')],\n",
    "        'C':[('A'),('I')],\n",
    "        'D':[ ('K')],\n",
    "        'E':[('B')],\n",
    "        'F':[('B'),('G')],\n",
    "        'G':[('F')],\n",
    "        'I':[('C'),('J')],\n",
    "        'J':[('I'),('M')],\n",
    "        'K':[('D'),('L')],\n",
    "        'N':[('L')],\n",
    "        'L':[(\"N\")],\n",
    "        'M':[('J')]\n",
    "    }\n",
    "    \n",
    "\n",
    "    initial_node = 'A'\n",
    "    print(Hill_climing(graph,initial_node))"
   ]
  },
  {
   "cell_type": "code",
   "execution_count": 31,
   "id": "d90b0595",
   "metadata": {},
   "outputs": [
    {
     "name": "stdout",
     "output_type": "stream",
     "text": [
      "Final Solution: [-45, -49, -44, -38, -49, -36, -47, -49, -57, -50]\n",
      "Final Score: 464\n"
     ]
    }
   ],
   "source": [
    "import random\n",
    "\n",
    "def objective_function(solution):\n",
    "\n",
    "    return -sum(solution) \n",
    "\n",
    "\n",
    "def hill_climbing(max_iterations):\n",
    "    current_solution = [random.randint(0, 9) for _ in range(10)]  \n",
    "    current_score = objective_function(current_solution)\n",
    "\n",
    "    for _ in range(max_iterations):\n",
    "        neighbor_solution = current_solution[:] \n",
    "        index_to_modify = random.randint(0, len(neighbor_solution) - 1)\n",
    "        neighbor_solution[index_to_modify] += random.choice([-1, 1])\n",
    "\n",
    "        neighbor_score = objective_function(neighbor_solution)\n",
    "\n",
    "        if neighbor_score > current_score:\n",
    "            current_solution = neighbor_solution\n",
    "            current_score = neighbor_score\n",
    "\n",
    "    return current_solution, current_score\n",
    "\n",
    "# Example usage\n",
    "if __name__ == \"__main__\":\n",
    "    max_iterations = 1000\n",
    "    final_solution, final_score = hill_climbing(max_iterations)\n",
    "    print(\"Final Solution:\", final_solution)\n",
    "    print(\"Final Score:\", final_score)\n"
   ]
  },
  {
   "cell_type": "code",
   "execution_count": null,
   "id": "e045a85d",
   "metadata": {},
   "outputs": [],
   "source": []
  }
 ],
 "metadata": {
  "kernelspec": {
   "display_name": "Python 3",
   "language": "python",
   "name": "python3"
  },
  "language_info": {
   "codemirror_mode": {
    "name": "ipython",
    "version": 3
   },
   "file_extension": ".py",
   "mimetype": "text/x-python",
   "name": "python",
   "nbconvert_exporter": "python",
   "pygments_lexer": "ipython3",
   "version": "3.8.8"
  }
 },
 "nbformat": 4,
 "nbformat_minor": 5
}
