{
 "cells": [
  {
   "cell_type": "code",
   "execution_count": null,
   "id": "864bc03b",
   "metadata": {},
   "outputs": [],
   "source": []
  },
  {
   "cell_type": "code",
   "execution_count": 57,
   "id": "45ebb30f",
   "metadata": {},
   "outputs": [],
   "source": [
    "import pandas as pd\n",
    "import hashlib\n",
    "import math\n",
    "df = pd.read_csv('Student_Marks.csv')"
   ]
  },
  {
   "cell_type": "code",
   "execution_count": 58,
   "id": "e3585c40",
   "metadata": {
    "scrolled": true
   },
   "outputs": [
    {
     "name": "stdout",
     "output_type": "stream",
     "text": [
      "    number_courses  time_study   Marks\n",
      "0                3       4.508  19.202\n",
      "1                4       0.096   7.734\n",
      "2                4       3.133  13.811\n",
      "3                6       7.909  53.018\n",
      "4                8       7.811  55.299\n",
      "5                6       3.211  17.822\n",
      "6                3       6.063  29.889\n",
      "7                5       3.413  17.264\n",
      "8                4       4.410  20.348\n",
      "9                3       6.173  30.862\n",
      "10               3       7.353  42.036\n",
      "11               7       0.423  12.132\n",
      "12               7       4.218  24.318\n",
      "13               3       4.274  17.672\n",
      "14               3       2.908  11.397\n",
      "15               4       4.260  19.466\n",
      "16               5       5.719  30.548\n",
      "17               8       6.080  38.490\n",
      "18               6       7.711  50.986\n",
      "19               8       3.977  25.133\n",
      "20               4       4.733  22.073\n",
      "21               6       6.126  35.939\n",
      "22               5       2.051  12.209\n",
      "23               7       4.875  28.043\n",
      "24               4       3.635  16.517\n",
      "25               3       1.407   6.623\n",
      "26               7       0.508  12.647\n",
      "27               8       4.378  26.532\n",
      "28               5       0.156   9.333\n",
      "29               4       1.299   8.837\n",
      "30               8       3.864  24.172\n",
      "31               3       1.923   8.100\n",
      "32               8       0.932  15.038\n",
      "33               6       6.594  39.965\n",
      "34               3       4.083  17.171\n",
      "35               3       7.543  43.978\n",
      "36               4       2.966  13.119\n",
      "37               6       7.283  46.453\n",
      "38               7       6.533  41.358\n",
      "39               6       7.775  51.142\n",
      "40               4       0.140   7.336\n",
      "41               6       2.754  15.725\n",
      "42               6       3.591  19.771\n",
      "43               5       1.557  10.429\n",
      "44               4       1.954   9.742\n",
      "45               3       2.061   8.924\n",
      "46               4       3.797  16.703\n",
      "47               4       4.779  22.701\n",
      "48               3       5.635  26.882\n",
      "49               5       3.913  19.106\n",
      "50               6       6.703  40.602\n",
      "51               6       4.130  22.184\n",
      "52               4       0.771   7.892\n",
      "53               7       6.049  36.653\n",
      "54               8       7.591  53.158\n",
      "55               7       2.913  18.238\n",
      "56               8       7.641  53.359\n",
      "57               7       7.649  51.583\n",
      "58               3       6.198  31.236\n",
      "59               8       7.468  51.343\n",
      "60               6       0.376  10.522\n",
      "61               4       2.438  10.844\n",
      "62               6       3.606  19.590\n",
      "63               3       4.869  21.379\n",
      "64               7       0.130  12.591\n",
      "65               6       2.142  13.562\n",
      "66               4       5.473  27.569\n",
      "67               3       0.550   6.185\n",
      "68               4       1.395   8.920\n",
      "69               6       3.948  21.400\n",
      "70               4       3.736  16.606\n",
      "71               5       2.518  13.416\n",
      "72               3       4.633  20.398\n",
      "73               3       1.629   7.014\n",
      "74               4       6.954  39.952\n",
      "75               3       0.803   6.217\n",
      "76               5       6.379  36.746\n",
      "77               8       5.985  38.278\n",
      "78               7       7.451  49.544\n",
      "79               3       0.805   6.349\n",
      "80               7       7.957  54.321\n",
      "81               8       2.262  17.705\n",
      "82               4       7.410  44.099\n",
      "83               5       3.197  16.106\n",
      "84               8       1.982  16.461\n",
      "85               8       6.201  39.957\n",
      "86               7       4.067  23.149\n",
      "87               3       1.033   6.053\n",
      "88               5       1.803  11.253\n",
      "89               7       6.376  40.024\n",
      "90               7       4.182  24.394\n",
      "91               8       2.730  19.564\n",
      "92               4       5.027  23.916\n",
      "93               8       6.471  42.426\n",
      "94               8       3.919  24.451\n",
      "95               6       3.561  19.128\n",
      "96               3       0.301   5.609\n",
      "97               4       7.163  41.444\n",
      "98               7       0.309  12.027\n",
      "99               3       6.335  32.357\n"
     ]
    }
   ],
   "source": [
    "print(df.to_string()) "
   ]
  },
  {
   "cell_type": "code",
   "execution_count": 59,
   "id": "60d3674d",
   "metadata": {},
   "outputs": [
    {
     "name": "stdout",
     "output_type": "stream",
     "text": [
      "(100, 2)\n"
     ]
    }
   ],
   "source": [
    "import pandas as pd\n",
    "df = pd.read_csv('Student_Marks.csv', index_col=0).reset_index(drop=True)\n",
    "print(df.shape)\n"
   ]
  },
  {
   "cell_type": "code",
   "execution_count": 60,
   "id": "39582506",
   "metadata": {},
   "outputs": [
    {
     "name": "stdout",
     "output_type": "stream",
     "text": [
      "   time_study   Marks\n",
      "0       3.948  21.400\n",
      "1       1.407   6.623\n",
      "2       0.771   7.892\n",
      "3       2.518  13.416\n",
      "4       4.410  20.348\n",
      "5       7.543  43.978\n",
      "6       2.438  10.844\n",
      "7       2.051  12.209\n",
      "8       7.283  46.453\n",
      "9       2.908  11.397\n"
     ]
    }
   ],
   "source": [
    "df = df.sample(10).reset_index(drop=True).copy()\n",
    "print(df)\n"
   ]
  },
  {
   "cell_type": "code",
   "execution_count": 61,
   "id": "12e09680",
   "metadata": {},
   "outputs": [
    {
     "name": "stdout",
     "output_type": "stream",
     "text": [
      "   time_study   Marks\n",
      "5       7.543  43.978\n"
     ]
    }
   ],
   "source": [
    "print(df.sample())"
   ]
  },
  {
   "cell_type": "code",
   "execution_count": 62,
   "id": "8c3b516b",
   "metadata": {},
   "outputs": [],
   "source": [
    "csv_file_path = \"Student_Marks.csv\"\n",
    "\n",
    "df = pd.read_csv(csv_file_path)"
   ]
  },
  {
   "cell_type": "code",
   "execution_count": 63,
   "id": "2c3d1ec7",
   "metadata": {},
   "outputs": [],
   "source": [
    "exclude_columns = [\"number_courses\", \"time_study\",\"Marks\"]"
   ]
  },
  {
   "cell_type": "code",
   "execution_count": 64,
   "id": "141710ef",
   "metadata": {},
   "outputs": [],
   "source": [
    "for index, row in df.iterrows():\n",
    "    for column in df.columns:\n",
    "        if column not in exclude_columns:\n",
    "            value = str(row[column])\n",
    "            hashed_value = hashlib.sha256(value.encode()).hexdigest()\n",
    "            df.at[index, column] = hashed_value"
   ]
  },
  {
   "cell_type": "code",
   "execution_count": 65,
   "id": "e6d7cdaa",
   "metadata": {},
   "outputs": [],
   "source": [
    "hashed_file_path = \"hashed_data.csv\"\n",
    "df.to_csv(hashed_file_path, index=False)"
   ]
  },
  {
   "cell_type": "code",
   "execution_count": 66,
   "id": "12284c7d",
   "metadata": {},
   "outputs": [],
   "source": [
    "dh = pd.read_csv('hashed_data.csv')"
   ]
  },
  {
   "cell_type": "code",
   "execution_count": 67,
   "id": "932daee1",
   "metadata": {},
   "outputs": [
    {
     "name": "stdout",
     "output_type": "stream",
     "text": [
      "    number_courses  time_study   Marks\n",
      "0                3       4.508  19.202\n",
      "1                4       0.096   7.734\n",
      "2                4       3.133  13.811\n",
      "3                6       7.909  53.018\n",
      "4                8       7.811  55.299\n",
      "5                6       3.211  17.822\n",
      "6                3       6.063  29.889\n",
      "7                5       3.413  17.264\n",
      "8                4       4.410  20.348\n",
      "9                3       6.173  30.862\n",
      "10               3       7.353  42.036\n",
      "11               7       0.423  12.132\n",
      "12               7       4.218  24.318\n",
      "13               3       4.274  17.672\n",
      "14               3       2.908  11.397\n",
      "15               4       4.260  19.466\n",
      "16               5       5.719  30.548\n",
      "17               8       6.080  38.490\n",
      "18               6       7.711  50.986\n",
      "19               8       3.977  25.133\n",
      "20               4       4.733  22.073\n",
      "21               6       6.126  35.939\n",
      "22               5       2.051  12.209\n",
      "23               7       4.875  28.043\n",
      "24               4       3.635  16.517\n",
      "25               3       1.407   6.623\n",
      "26               7       0.508  12.647\n",
      "27               8       4.378  26.532\n",
      "28               5       0.156   9.333\n",
      "29               4       1.299   8.837\n",
      "30               8       3.864  24.172\n",
      "31               3       1.923   8.100\n",
      "32               8       0.932  15.038\n",
      "33               6       6.594  39.965\n",
      "34               3       4.083  17.171\n",
      "35               3       7.543  43.978\n",
      "36               4       2.966  13.119\n",
      "37               6       7.283  46.453\n",
      "38               7       6.533  41.358\n",
      "39               6       7.775  51.142\n",
      "40               4       0.140   7.336\n",
      "41               6       2.754  15.725\n",
      "42               6       3.591  19.771\n",
      "43               5       1.557  10.429\n",
      "44               4       1.954   9.742\n",
      "45               3       2.061   8.924\n",
      "46               4       3.797  16.703\n",
      "47               4       4.779  22.701\n",
      "48               3       5.635  26.882\n",
      "49               5       3.913  19.106\n",
      "50               6       6.703  40.602\n",
      "51               6       4.130  22.184\n",
      "52               4       0.771   7.892\n",
      "53               7       6.049  36.653\n",
      "54               8       7.591  53.158\n",
      "55               7       2.913  18.238\n",
      "56               8       7.641  53.359\n",
      "57               7       7.649  51.583\n",
      "58               3       6.198  31.236\n",
      "59               8       7.468  51.343\n",
      "60               6       0.376  10.522\n",
      "61               4       2.438  10.844\n",
      "62               6       3.606  19.590\n",
      "63               3       4.869  21.379\n",
      "64               7       0.130  12.591\n",
      "65               6       2.142  13.562\n",
      "66               4       5.473  27.569\n",
      "67               3       0.550   6.185\n",
      "68               4       1.395   8.920\n",
      "69               6       3.948  21.400\n",
      "70               4       3.736  16.606\n",
      "71               5       2.518  13.416\n",
      "72               3       4.633  20.398\n",
      "73               3       1.629   7.014\n",
      "74               4       6.954  39.952\n",
      "75               3       0.803   6.217\n",
      "76               5       6.379  36.746\n",
      "77               8       5.985  38.278\n",
      "78               7       7.451  49.544\n",
      "79               3       0.805   6.349\n",
      "80               7       7.957  54.321\n",
      "81               8       2.262  17.705\n",
      "82               4       7.410  44.099\n",
      "83               5       3.197  16.106\n",
      "84               8       1.982  16.461\n",
      "85               8       6.201  39.957\n",
      "86               7       4.067  23.149\n",
      "87               3       1.033   6.053\n",
      "88               5       1.803  11.253\n",
      "89               7       6.376  40.024\n",
      "90               7       4.182  24.394\n",
      "91               8       2.730  19.564\n",
      "92               4       5.027  23.916\n",
      "93               8       6.471  42.426\n",
      "94               8       3.919  24.451\n",
      "95               6       3.561  19.128\n",
      "96               3       0.301   5.609\n",
      "97               4       7.163  41.444\n",
      "98               7       0.309  12.027\n",
      "99               3       6.335  32.357\n"
     ]
    }
   ],
   "source": [
    "print(dh.to_string()) "
   ]
  },
  {
   "cell_type": "code",
   "execution_count": 68,
   "id": "ef904375",
   "metadata": {},
   "outputs": [
    {
     "name": "stdout",
     "output_type": "stream",
     "text": [
      "    number_courses  time_study   Marks\n",
      "0                3       4.508  19.202\n",
      "1                4       0.096   7.734\n",
      "2                4       3.133  13.811\n",
      "3                6       7.909  53.018\n",
      "4                8       7.811  55.299\n",
      "..             ...         ...     ...\n",
      "95               6       3.561  19.128\n",
      "96               3       0.301   5.609\n",
      "97               4       7.163  41.444\n",
      "98               7       0.309  12.027\n",
      "99               3       6.335  32.357\n",
      "\n",
      "[100 rows x 3 columns]\n",
      "\n",
      "   number_courses  time_study   Marks\n",
      "0               6       7.775  51.142\n",
      "1               4       4.410  20.348\n",
      "2               3       7.353  42.036\n",
      "3               7       4.067  23.149\n",
      "4               8       6.471  42.426\n",
      "5               4       3.133  13.811\n",
      "6               4       3.635  16.517\n",
      "7               6       2.754  15.725\n",
      "8               4       0.140   7.336\n",
      "9               7       7.649  51.583\n"
     ]
    }
   ],
   "source": [
    "dh1 = dh.sample(10).reset_index(drop=True).copy()\n",
    "print(dh)\n",
    "print()\n",
    "dh2 = dh.sample(10).reset_index(drop=True).copy()\n",
    "print(dh2)"
   ]
  },
  {
   "cell_type": "code",
   "execution_count": 69,
   "id": "b4065348",
   "metadata": {},
   "outputs": [
    {
     "name": "stdout",
     "output_type": "stream",
     "text": [
      "\n"
     ]
    }
   ],
   "source": [
    "nc1 = dh1['number_courses'].mean()\n",
    "ts1 = dh1['time_study'].mean()\n",
    "m1 = dh1['Marks'].mean()\n",
    "print()\n",
    "snc1 = dh1['number_courses'].std()\n",
    "sts1 = dh1['time_study'].std()\n",
    "sm1 = dh1['Marks'].std()"
   ]
  },
  {
   "cell_type": "code",
   "execution_count": 70,
   "id": "eb910c6a",
   "metadata": {},
   "outputs": [
    {
     "name": "stdout",
     "output_type": "stream",
     "text": [
      "\n"
     ]
    }
   ],
   "source": [
    "nc2 = dh2['number_courses'].mean()\n",
    "ts2 = dh2['time_study'].mean()\n",
    "m2 = dh2['Marks'].mean()\n",
    "print()\n",
    "snc2 = dh2['number_courses'].std()\n",
    "sts2 = dh2['time_study'].std()\n",
    "sm2 = dh2['Marks'].std()"
   ]
  },
  {
   "cell_type": "code",
   "execution_count": 71,
   "id": "6f2a73c6",
   "metadata": {},
   "outputs": [
    {
     "name": "stdout",
     "output_type": "stream",
     "text": [
      "\n"
     ]
    }
   ],
   "source": [
    "df = pd.read_csv('Student_Marks.csv')\n",
    "nc = df['number_courses'].mean()\n",
    "ts = df['time_study'].mean()\n",
    "m = df['Marks'].mean()\n",
    "print()\n",
    "snc = df['number_courses'].std()\n",
    "sts = df['time_study'].std()\n",
    "sm = df['Marks'].std()"
   ]
  },
  {
   "cell_type": "code",
   "execution_count": 72,
   "id": "c0180a2d",
   "metadata": {},
   "outputs": [],
   "source": [
    "sample_1 = [nc1,ts1,m1]\n",
    "sample_2= [nc2,ts2,m2]\n"
   ]
  },
  {
   "cell_type": "code",
   "execution_count": 73,
   "id": "4ad3a698",
   "metadata": {},
   "outputs": [],
   "source": [
    "population = [nc,ts,m]\n",
    "population_s = [snc,sts,sm]"
   ]
  },
  {
   "cell_type": "code",
   "execution_count": 78,
   "id": "8ee146b1",
   "metadata": {},
   "outputs": [],
   "source": [
    "z_score_1 = []\n",
    "for i in range(3):\n",
    "    a= (sample_1[i]-population[i])/(population_s[i]/math.sqrt(10))\n",
    "    z_score_1.append(a)"
   ]
  },
  {
   "cell_type": "code",
   "execution_count": 79,
   "id": "36518379",
   "metadata": {},
   "outputs": [],
   "source": [
    "z_score_2 = []\n",
    "for i in range(3):\n",
    "    a= (sample_2[i]-population[i])/(population_s[i]/math.sqrt(10))\n",
    "    z_score_2.append(a)"
   ]
  },
  {
   "cell_type": "code",
   "execution_count": 80,
   "id": "6c81d8a4",
   "metadata": {},
   "outputs": [
    {
     "name": "stdout",
     "output_type": "stream",
     "text": [
      "[-0.6853417963575668, 1.3475281803464265, 1.3856813281067983]\n",
      "\n",
      "[0.017572866573270583, 0.8816317328513601, 0.8806421685049198]\n"
     ]
    }
   ],
   "source": [
    "print(z_score_1)\n",
    "print()\n",
    "print(z_score_2)"
   ]
  },
  {
   "cell_type": "code",
   "execution_count": 81,
   "id": "ec7a858c",
   "metadata": {},
   "outputs": [],
   "source": [
    "import scipy.stats as stats"
   ]
  },
  {
   "cell_type": "code",
   "execution_count": 82,
   "id": "aa9c52a8",
   "metadata": {},
   "outputs": [],
   "source": [
    "alpha = 0.05\n",
    "z_critical = stats.norm.ppf(1-alpha)"
   ]
  },
  {
   "cell_type": "code",
   "execution_count": 83,
   "id": "1acbb267",
   "metadata": {},
   "outputs": [
    {
     "name": "stdout",
     "output_type": "stream",
     "text": [
      "Critical Z-Score : 1.6448536269514722\n"
     ]
    }
   ],
   "source": [
    "print('Critical Z-Score :',z_critical)"
   ]
  },
  {
   "cell_type": "code",
   "execution_count": 84,
   "id": "277f7b38",
   "metadata": {},
   "outputs": [
    {
     "name": "stdout",
     "output_type": "stream",
     "text": [
      "Fail to Reject Null Hypothesis\n",
      "Fail to Reject Null Hypothesis\n",
      "Fail to Reject Null Hypothesis\n"
     ]
    }
   ],
   "source": [
    "for i in range(3):\n",
    "    if z_score_1[i] >  z_critical:\n",
    "        print(\"Reject Null Hypothesis\")\n",
    "    else:\n",
    "        print(\"Fail to Reject Null Hypothesis\")"
   ]
  },
  {
   "cell_type": "code",
   "execution_count": 85,
   "id": "ac429df6",
   "metadata": {},
   "outputs": [
    {
     "name": "stdout",
     "output_type": "stream",
     "text": [
      "Fail to Reject Null Hypothesis\n",
      "Fail to Reject Null Hypothesis\n",
      "Fail to Reject Null Hypothesis\n"
     ]
    }
   ],
   "source": [
    "for i in range(3):\n",
    "    if z_score_2[i] >  z_critical:\n",
    "        print(\"Reject Null Hypothesis\")\n",
    "    else:\n",
    "        print(\"Fail to Reject Null Hypothesis\")"
   ]
  },
  {
   "cell_type": "code",
   "execution_count": 92,
   "id": "f8af0dce",
   "metadata": {},
   "outputs": [
    {
     "name": "stdout",
     "output_type": "stream",
     "text": [
      "[0.7534358685524082, 0.08890509187896622, 0.08292211607529099]\n"
     ]
    }
   ],
   "source": [
    "p_value_1 = []\n",
    "for i in range(3):\n",
    "    a = 1-stats.norm.cdf(z_score_1[i])\n",
    "    p_value_1.append(a)\n",
    "print(p_value_1)"
   ]
  },
  {
   "cell_type": "code",
   "execution_count": 93,
   "id": "edd22f06",
   "metadata": {},
   "outputs": [
    {
     "name": "stdout",
     "output_type": "stream",
     "text": [
      "[0.4929898013360732, 0.18898799450312154, 0.18925576361515462]\n"
     ]
    }
   ],
   "source": [
    "p_value_2 = []\n",
    "for i in range(3):\n",
    "    a = 1-stats.norm.cdf(z_score_2[i])\n",
    "    p_value_2.append(a)\n",
    "print(p_value_2)"
   ]
  },
  {
   "cell_type": "code",
   "execution_count": 94,
   "id": "d6ff7ffa",
   "metadata": {},
   "outputs": [
    {
     "name": "stdout",
     "output_type": "stream",
     "text": [
      "Fail to Reject Null Hypothesis\n",
      "Fail to Reject Null Hypothesis\n",
      "Fail to Reject Null Hypothesis\n"
     ]
    }
   ],
   "source": [
    "for i in range(3):    \n",
    "    if p_value_1[i] <  alpha:\n",
    "        print(\"Reject Null Hypothesis\")\n",
    "    else:\n",
    "        print(\"Fail to Reject Null Hypothesis\")"
   ]
  },
  {
   "cell_type": "code",
   "execution_count": 95,
   "id": "01738974",
   "metadata": {},
   "outputs": [
    {
     "name": "stdout",
     "output_type": "stream",
     "text": [
      "Fail to Reject Null Hypothesis\n",
      "Fail to Reject Null Hypothesis\n",
      "Fail to Reject Null Hypothesis\n"
     ]
    }
   ],
   "source": [
    "for i in range(3):    \n",
    "    if p_value_2[i] <  alpha:\n",
    "        print(\"Reject Null Hypothesis\")\n",
    "    else:\n",
    "        print(\"Fail to Reject Null Hypothesis\")"
   ]
  },
  {
   "cell_type": "code",
   "execution_count": null,
   "id": "f208addc",
   "metadata": {},
   "outputs": [],
   "source": []
  }
 ],
 "metadata": {
  "kernelspec": {
   "display_name": "Python 3",
   "language": "python",
   "name": "python3"
  },
  "language_info": {
   "codemirror_mode": {
    "name": "ipython",
    "version": 3
   },
   "file_extension": ".py",
   "mimetype": "text/x-python",
   "name": "python",
   "nbconvert_exporter": "python",
   "pygments_lexer": "ipython3",
   "version": "3.8.8"
  }
 },
 "nbformat": 4,
 "nbformat_minor": 5
}
