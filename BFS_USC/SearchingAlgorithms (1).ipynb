{
 "cells": [
  {
   "cell_type": "markdown",
   "id": "1ecad7b8",
   "metadata": {},
   "source": [
    "# Visualization of graph"
   ]
  },
  {
   "cell_type": "code",
   "execution_count": 83,
   "id": "f28cc573",
   "metadata": {},
   "outputs": [
    {
     "name": "stdout",
     "output_type": "stream",
     "text": [
      "3\n"
     ]
    },
    {
     "data": {
      "image/png": "[encoded data removed]",
      "text/plain": [
       "<Figure size 432x288 with 1 Axes>"
      ]
     },
     "metadata": {},
     "output_type": "display_data"
    }
   ],
   "source": [
    "import networkx as nx\n",
    "import math\n",
    "import matplotlib.pyplot as plt\n",
    "explored = []\n",
    "frontier = []\n",
    "b = 2 # b=2 for trees\n",
    "d = 2 #depth of solution\n",
    "graph = {\n",
    "    'a': ['b','c'],\n",
    "    'b': ['d','e'],\n",
    "    'c': ['f','g'],\n",
    "    'd': [],\n",
    "    'e': ['h','i'],\n",
    "    'f': [],\n",
    "    'g': [],\n",
    "    'h': [],\n",
    "    'i': []}\n",
    "G = nx.Graph()\n",
    "for value in graph.keys():\n",
    "    for i in range(len(graph[value])):\n",
    "        G.add_edge(value,graph[value][i])\n",
    "nx.draw(G, with_labels = True, font_weight = 'bold')\n",
    "\n",
    "\n"
   ]
  },
  {
   "cell_type": "markdown",
   "id": "1e722562",
   "metadata": {},
   "source": [
    "### Calculation of Max Depth"
   ]
  },
  {
   "cell_type": "code",
   "execution_count": 84,
   "id": "0ff80857",
   "metadata": {},
   "outputs": [
    {
     "name": "stdout",
     "output_type": "stream",
     "text": [
      "3\n"
     ]
    }
   ],
   "source": [
    "nodes = len(graph)\n",
    "m = math.floor((math.log2(nodes))) #max depth\n",
    "print(m)"
   ]
  },
  {
   "cell_type": "markdown",
   "id": "5350ab10",
   "metadata": {},
   "source": [
    "## Breadth First Search"
   ]
  },
  {
   "cell_type": "code",
   "execution_count": 85,
   "id": "b80e96e4",
   "metadata": {},
   "outputs": [
    {
     "name": "stdout",
     "output_type": "stream",
     "text": [
      "Breadth First Search: \n",
      "a b c d "
     ]
    }
   ],
   "source": [
    "def bfs(explored,graph,initial_state,goal_state):\n",
    "    explored.append(initial_state)\n",
    "    frontier.append(initial_state)\n",
    "    while frontier:\n",
    "        if goal_state == frontier[0]:\n",
    "            element = frontier.pop(0)\n",
    "            print(element,end = \" \")\n",
    "            return\n",
    "        else:\n",
    "            element = frontier.pop(0)\n",
    "            print(element, end = \" \")\n",
    "              \n",
    "            \n",
    "     \n",
    "        for adj in graph[element]:\n",
    "            if adj not in explored:\n",
    "                explored.append(adj)\n",
    "                frontier.append(adj)\n",
    "print(\"Breadth First Search: \")\n",
    "bfs(explored,graph,'a','d')\n"
   ]
  },
  {
   "cell_type": "markdown",
   "id": "b8fca82a",
   "metadata": {},
   "source": [
    "## Depth First Search"
   ]
  },
  {
   "cell_type": "code",
   "execution_count": 86,
   "id": "96c7442e",
   "metadata": {},
   "outputs": [
    {
     "name": "stdout",
     "output_type": "stream",
     "text": [
      "Depth First Search: \n",
      "a b d e h i c "
     ]
    }
   ],
   "source": [
    "explored = set()\n",
    "def dfs(explored,graph,initial_state,goal_state):\n",
    "    if initial_state not in explored:\n",
    "        print(initial_state, end = \" \")\n",
    "        if initial_state == goal_state:\n",
    "            return\n",
    "        explored.add(initial_state)\n",
    "        for adj in graph[initial_state]:\n",
    "            if adj == goal_state:\n",
    "                print(adj,end = \" \")\n",
    "                return\n",
    "            dfs(explored,graph,adj,goal_state)\n",
    "print(\"Depth First Search: \")\n",
    "dfs(explored,graph,'a','c')"
   ]
  },
  {
   "cell_type": "markdown",
   "id": "690d82cc",
   "metadata": {},
   "source": [
    "## Depth Limited Search"
   ]
  },
  {
   "cell_type": "code",
   "execution_count": 87,
   "id": "1e7e3fec",
   "metadata": {},
   "outputs": [
    {
     "name": "stdout",
     "output_type": "stream",
     "text": [
      "Depth Limited Search:\n",
      "a b c \n",
      "Goal state not found.\n"
     ]
    }
   ],
   "source": [
    "explored = set()\n",
    "\n",
    "def dls(explored, graph, current_state, goal_state, depth_limit):\n",
    "    if current_state not in explored and depth_limit >= 0:\n",
    "        if current_state == goal_state:\n",
    "            print(current_state, end=\" \")\n",
    "            return True\n",
    "        else:\n",
    "            print(current_state, end=\" \")\n",
    "        explored.add(current_state)\n",
    "        if depth_limit > 0:\n",
    "            found_goal = False\n",
    "            for adj in graph[current_state]:\n",
    "                if dls(explored, graph, adj, goal_state, depth_limit - 1):\n",
    "                    found_goal = True\n",
    "                    break\n",
    "            return found_goal\n",
    "    return False\n",
    "\n",
    "def depth_limited_search(graph, initial_state, goal_state, depth_limit):\n",
    "    print(\"Depth Limited Search:\")\n",
    "    if not dls(explored, graph, initial_state, goal_state, depth_limit):\n",
    "        print(\"\\nGoal state not found.\")\n",
    "\n",
    "\n",
    "depth_limited_search(graph, 'a','g', 1)\n"
   ]
  },
  {
   "cell_type": "markdown",
   "id": "97d26d65",
   "metadata": {},
   "source": [
    "## Iterative Deepening Seach"
   ]
  },
  {
   "cell_type": "code",
   "execution_count": 70,
   "id": "d299fc3f",
   "metadata": {},
   "outputs": [
    {
     "name": "stdout",
     "output_type": "stream",
     "text": [
      "Iterative Deepening Search:\n",
      "\n",
      "Till depth 0:\n",
      "a \n",
      "Till depth 1:\n",
      "a b c \n",
      "Till depth 2:\n",
      "a b d e c f g \n",
      "\n",
      "Goal state reached at Depth 2\n"
     ]
    }
   ],
   "source": [
    "explored = set()\n",
    "\n",
    "def dls(graph, current_state, goal_state, depth_limit):\n",
    "    global explored\n",
    "    \n",
    "    if current_state == goal_state:\n",
    "        print(current_state, end=\" \")\n",
    "        return True\n",
    "    \n",
    "    if current_state not in explored:\n",
    "        print(current_state, end=\" \")\n",
    "        explored.add(current_state)\n",
    "        if depth_limit > 0:\n",
    "            found_goal = False\n",
    "            for adj in graph[current_state]:\n",
    "                if dls(graph, adj, goal_state, depth_limit - 1):\n",
    "                    found_goal = True\n",
    "                    break\n",
    "            return found_goal\n",
    "        \n",
    "    return False\n",
    "\n",
    "def iterative_deepening_search(graph, initial_state, goal_state, max_depth):\n",
    "    global explored\n",
    "    print(\"Iterative Deepening Search:\")\n",
    "    for depth_limit in range(max_depth + 1):\n",
    "        explored.clear()  \n",
    "        print(\"\\nTill depth \" + str(depth_limit) + \":\")\n",
    "        if dls(graph, initial_state, goal_state, depth_limit):\n",
    "            print(\"\\n\\nGoal state reached at Depth \"  + str(depth_limit))\n",
    "            return\n",
    "\n",
    "iterative_deepening_search(graph, 'a','g', 5)\n"
   ]
  },
  {
   "cell_type": "markdown",
   "id": "e56c4f12",
   "metadata": {},
   "source": [
    "## Weighted Graph"
   ]
  },
  {
   "cell_type": "code",
   "execution_count": 15,
   "id": "59d6056f",
   "metadata": {},
   "outputs": [
    {
     "data": {
      "image/png": "[encoded data removed]",
      "text/plain": [
       "<Figure size 432x288 with 1 Axes>"
      ]
     },
     "metadata": {},
     "output_type": "display_data"
    }
   ],
   "source": [
    "import networkx as nx\n",
    "\n",
    "weighted_graph = {\n",
    "    'a': [('b', 1), ('c', 4)],\n",
    "    'b': [('d', 3), ('e', 2)],\n",
    "    'c': [('f', 5), ('g', 1)],\n",
    "    'd': [],\n",
    "    'e': [],\n",
    "    'f': [],\n",
    "    'g': []\n",
    "}\n",
    "\n",
    "G = nx.Graph()\n",
    "for value in weighted_graph.keys():\n",
    "    for neighbor, weight in weighted_graph[value]:\n",
    "        G.add_edge(value, neighbor, weight=weight)\n",
    "\n",
    "pos = nx.spring_layout(G)  \n",
    "nx.draw(G, pos, with_labels=True, font_weight='bold')\n",
    "\n",
    "edge_labels = nx.get_edge_attributes(G, 'weight')\n",
    "nx.draw_networkx_edge_labels(G, pos, edge_labels=edge_labels)\n",
    "\n",
    "import matplotlib.pyplot as plt\n",
    "plt.show()\n"
   ]
  },
  {
   "cell_type": "markdown",
   "id": "918d35e2",
   "metadata": {},
   "source": [
    "## Uniform Cost Search\n"
   ]
  },
  {
   "cell_type": "code",
   "execution_count": 18,
   "id": "a7b05c8a",
   "metadata": {},
   "outputs": [
    {
     "name": "stdout",
     "output_type": "stream",
     "text": [
      "Uniform Cost Search: \n",
      "a b e c d g "
     ]
    }
   ],
   "source": [
    "explored = set()\n",
    "\n",
    "def ucs(explored, weighted_graph, current_state, goal_state):\n",
    "    frontier = [(0, current_state)]  \n",
    "    while frontier:\n",
    "        frontier.sort() \n",
    "        cost, state = frontier.pop(0)\n",
    "        if state not in explored:\n",
    "            explored.add(state)\n",
    "            print(state, end=\" \")\n",
    "            if state == goal_state:\n",
    "                return True\n",
    "            for neighbor, weight in weighted_graph[state]:\n",
    "                frontier.append((cost + weight, neighbor))\n",
    "    return False\n",
    "\n",
    "def uniform_cost_search(weighted_graph, initial_state, goal_state):\n",
    "    print(\"Uniform Cost Search: \")\n",
    "    ucs(explored, weighted_graph, initial_state, goal_state)\n",
    "\n",
    "\n",
    "uniform_cost_search(weighted_graph, 'a', 'g')\n"
   ]
  }
 ],
 "metadata": {
  "kernelspec": {
   "display_name": "Python 3",
   "language": "python",
   "name": "python3"
  },
  "language_info": {
   "codemirror_mode": {
    "name": "ipython",
    "version": 3
   },
   "file_extension": ".py",
   "mimetype": "text/x-python",
   "name": "python",
   "nbconvert_exporter": "python",
   "pygments_lexer": "ipython3",
   "version": "3.8.8"
  }
 },
 "nbformat": 4,
 "nbformat_minor": 5
}
