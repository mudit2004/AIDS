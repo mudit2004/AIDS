{
 "cells": [
  {
   "cell_type": "markdown",
   "id": "6b91e409",
   "metadata": {},
   "source": [
    "AIDS LAB -2\n",
    "17.08.2023"
   ]
  },
  {
   "cell_type": "code",
   "execution_count": 45,
   "id": "a535eb9d",
   "metadata": {},
   "outputs": [
    {
     "name": "stdout",
     "output_type": "stream",
     "text": [
      "Following is the Breadth-First Search\n",
      "5 3 7 2 4 8 \n",
      "time complexity : 12\n"
     ]
    }
   ],
   "source": [
    "\n",
    "count = 0\n",
    "problem = {\n",
    "  '5' : ['3','7'],\n",
    "  '3' : ['2', '4'],\n",
    "  '7' : ['8'],\n",
    "  '2' : [],\n",
    "  '4' : ['8'],\n",
    "  '8' : []\n",
    "}\n",
    "\n",
    "explored = [] \n",
    "frontier = []\n",
    "\n",
    "def bfs(problem,node,explored): \n",
    "    global count\n",
    "    count+=1\n",
    "    explored.append(node)\n",
    "    frontier.append(node)\n",
    "\n",
    "    while frontier: \n",
    "        count+=1\n",
    "        m = frontier.pop(0) \n",
    "        print (m, end = \" \") \n",
    "\n",
    "        for child in problem[m]:\n",
    "            if child not in explored:\n",
    "                count+=1\n",
    "                explored.append(child)\n",
    "                frontier.append(child)\n",
    "        \n",
    "print(\"Following is the Breadth-First Search\")\n",
    "bfs(problem,'5',explored)\n",
    "print(\"\\ntime complexity :\", count)\n"
   ]
  },
  {
   "cell_type": "code",
   "execution_count": 48,
   "id": "546df413",
   "metadata": {},
   "outputs": [
    {
     "name": "stdout",
     "output_type": "stream",
     "text": [
      "Shortest path cost from A to B: 1\n",
      "\n",
      " Time complexity is : 5\n"
     ]
    }
   ],
   "source": [
    "import heapq\n",
    "count = 0\n",
    "def uniform_cost_search(graph, start, goal):\n",
    "    global count\n",
    "    count+=1\n",
    "    queue = [(0, start)] \n",
    "    visited = set()       \n",
    "\n",
    "    while queue:\n",
    "        count+=1\n",
    "        cost, node = heapq.heappop(queue) \n",
    "        if node in visited:\n",
    "            continue\n",
    "\n",
    "        visited.add(node)\n",
    "\n",
    "        if node == goal:\n",
    "            return cost\n",
    "\n",
    "        for neighbor, neighbor_cost in graph[node].items():\n",
    "            if neighbor not in visited:\n",
    "                count+=1\n",
    "                heapq.heappush(queue, (cost + neighbor_cost, neighbor))\n",
    "\n",
    "    return float('inf') \n",
    "graph = {\n",
    "    'A': {'B': 1, 'C': 4},\n",
    "    'B': {'A': 1, 'C': 2, 'D': 5},\n",
    "    'C': {'A': 4, 'B': 2, 'D': 1},\n",
    "    'D': {'B': 5, 'C': 1}\n",
    "}\n",
    "start_node = 'A'\n",
    "goal_node = 'B'\n",
    "result = uniform_cost_search(graph, start_node, goal_node)\n",
    "print(f\"Shortest path cost from {start_node} to {goal_node}: {result}\")\n",
    "print(\"\\n Time complexity is :\",count)"
   ]
  }
 ],
 "metadata": {
  "kernelspec": {
   "display_name": "Python 3",
   "language": "python",
   "name": "python3"
  },
  "language_info": {
   "codemirror_mode": {
    "name": "ipython",
    "version": 3
   },
   "file_extension": ".py",
   "mimetype": "text/x-python",
   "name": "python",
   "nbconvert_exporter": "python",
   "pygments_lexer": "ipython3",
   "version": "3.8.8"
  }
 },
 "nbformat": 4,
 "nbformat_minor": 5
}
