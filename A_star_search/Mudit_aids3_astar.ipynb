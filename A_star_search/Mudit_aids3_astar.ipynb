{
 "cells": [
  {
   "cell_type": "markdown",
   "id": "1ff21ef7",
   "metadata": {},
   "source": [
    "24.08.23\n",
    "\n",
    "LAB - 3"
   ]
  },
  {
   "cell_type": "code",
   "execution_count": 15,
   "id": "e66969fb",
   "metadata": {
    "scrolled": true
   },
   "outputs": [
    {
     "name": "stdout",
     "output_type": "stream",
     "text": [
      "Path found: ['A', 'C', 'E', 'F']\n"
     ]
    }
   ],
   "source": [
    "import heapq #<-- for making a priortiy heap \n",
    "\n",
    "def astar_search(graph, initial_node, goal_node, heuristic_function):\n",
    "    open_list = []\n",
    "    closed_set = set()\n",
    "\n",
    "    start_node = (initial_node, None, 0, heuristic(initial_node))\n",
    "    heapq.heappush(open_list, start_node)\n",
    "\n",
    "    while open_list:\n",
    "        current_node, parent, g, h = heapq.heappop(open_list)\n",
    "\n",
    "        if current_node == goal_node:\n",
    "            path = []\n",
    "            while current_node:\n",
    "                path.insert(0, current_node)\n",
    "                if parent:\n",
    "                    current_node, parent, _, _ = parent\n",
    "                else:\n",
    "                    current_node = None\n",
    "            return path\n",
    "\n",
    "        closed_set.add(current_node)\n",
    "\n",
    "        for neighbor_node, edge_cost in graph[current_node]:\n",
    "            if neighbor_node in closed_set:\n",
    "                continue\n",
    "\n",
    "            tentative_g = g + edge_cost\n",
    "            neighbor_heuristic = heuristic(neighbor_node)\n",
    "            neighbor_entry = (neighbor_node, (current_node, parent, g, h), tentative_g, neighbor_heuristic)\n",
    "            if neighbor_node not in (node for node, _, _, _ in open_list) or tentative_g < g:\n",
    "                heapq.heappush(open_list, neighbor_entry)\n",
    "\n",
    "    return None\n",
    "\n",
    "#defing the heuristic value\n",
    "def heuristic(node):\n",
    "    dictionay = {\n",
    "        'A':100,\n",
    "        'B':50,\n",
    "        'C':110,\n",
    "        'D':10,\n",
    "        'E':11,\n",
    "        'F':0\n",
    "    }\n",
    "    return dictionay[node] \n",
    "\n",
    "if __name__ == \"__main__\":\n",
    "    graph = {\n",
    "        'A': [('B', 2), ('C', 16)],\n",
    "        'B': [('D', 3)],\n",
    "        'C': [('B', 15), ('E', 42)],\n",
    "        'D': [('C', 12), ('E', 3)],\n",
    "        'E':[('F',4),('A',28)]\n",
    "    }\n",
    "    \n",
    "\n",
    "    initial_node = 'A'\n",
    "    goal_node = 'F'\n",
    "    path = astar_search(graph, initial_node, goal_node, heuristic)\n",
    "    if path:\n",
    "        print(\"Path found:\", path)\n",
    "    else:\n",
    "        print(\"Path not found\")\n"
   ]
  }
 ],
 "metadata": {
  "kernelspec": {
   "display_name": "Python 3",
   "language": "python",
   "name": "python3"
  },
  "language_info": {
   "codemirror_mode": {
    "name": "ipython",
    "version": 3
   },
   "file_extension": ".py",
   "mimetype": "text/x-python",
   "name": "python",
   "nbconvert_exporter": "python",
   "pygments_lexer": "ipython3",
   "version": "3.8.8"
  }
 },
 "nbformat": 4,
 "nbformat_minor": 5
}
