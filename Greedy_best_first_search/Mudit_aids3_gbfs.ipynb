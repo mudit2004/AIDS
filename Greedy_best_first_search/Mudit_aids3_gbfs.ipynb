{
 "cells": [
  {
   "cell_type": "markdown",
   "id": "f50510b4",
   "metadata": {},
   "source": [
    "LAB-3\n",
    "24.08.23"
   ]
  },
  {
   "cell_type": "code",
   "execution_count": 3,
   "id": "25b37c6d",
   "metadata": {},
   "outputs": [
    {
     "name": "stdout",
     "output_type": "stream",
     "text": [
      "Name: decorator\n",
      "Version: 5.0.6\n",
      "Summary: Decorators for Humans\n",
      "Home-page: https://github.com/micheles/decorator\n",
      "Author: Michele Simionato\n",
      "Author-email: michele.simionato@gmail.com\n",
      "License: new BSD License\n",
      "Location: c:\\programdata\\anaconda3\\lib\\site-packages\n",
      "Requires: \n",
      "Required-by: networkx, ipython\n"
     ]
    }
   ],
   "source": [
    "#!pip install -U decorator --user\n",
    "!pip show decorator"
   ]
  },
  {
   "cell_type": "code",
   "execution_count": 4,
   "id": "7f22a309",
   "metadata": {},
   "outputs": [],
   "source": [
    "# greedy Best Frist Search\n",
    "# Greedy best first search\n",
    "frontier = []\n",
    "explored = []\n",
    "ans = []\n",
    "def greedy_best_first_search(nodes,edges,H,adj,initial_node,goal_node):\n",
    "    global frontier\n",
    "    global explored\n",
    "    global ans\n",
    "    #initial_node = nodes[0] # assuming first node is source node\n",
    "    #goal_node = nodes[-1] # assuming last node is goal_node\n",
    "    \n",
    "    \n",
    "    frontier.append((H[initial_node],initial_node))\n",
    "    if(initial_node == goal_node):\n",
    "        print(goal_node)\n",
    "        return True\n",
    "    \n",
    "    while(frontier):\n",
    "        frontier.sort(key=lambda x:x[0]) # sorting frontier w.r.t heuristic values\n",
    "        #print(frontier)\n",
    "        node = frontier.pop(0)\n",
    "        ans.append(node[-1])\n",
    "        if node in explored:\n",
    "            continue\n",
    "        \n",
    "        explored.append(node)\n",
    "        if node[-1] == goal_node:\n",
    "            print(' -> '.join(ans))\n",
    "            return True\n",
    "        frontier = []\n",
    "        #print(node[-1])\n",
    "        for i in adj[node[-1]]:\n",
    "            if i not in explored:\n",
    "                frontier.append((H[i[-1]],i[-1]))\n",
    "    return False"
   ]
  },
  {
   "cell_type": "code",
   "execution_count": 5,
   "id": "36b80fa6",
   "metadata": {},
   "outputs": [
    {
     "ename": "NetworkXError",
     "evalue": "random_state_index is incorrect",
     "output_type": "error",
     "traceback": [
      "\u001b[1;31m---------------------------------------------------------------------------\u001b[0m",
      "\u001b[1;31mIndexError\u001b[0m                                Traceback (most recent call last)",
      "\u001b[1;32mC:\\ProgramData\\Anaconda3\\lib\\site-packages\\networkx\\utils\\decorators.py\u001b[0m in \u001b[0;36m_random_state\u001b[1;34m(func, *args, **kwargs)\u001b[0m\n\u001b[0;32m    395\u001b[0m         \u001b[1;32mtry\u001b[0m\u001b[1;33m:\u001b[0m\u001b[1;33m\u001b[0m\u001b[1;33m\u001b[0m\u001b[0m\n\u001b[1;32m--> 396\u001b[1;33m             \u001b[0mrandom_state_arg\u001b[0m \u001b[1;33m=\u001b[0m \u001b[0margs\u001b[0m\u001b[1;33m[\u001b[0m\u001b[0mrandom_state_index\u001b[0m\u001b[1;33m]\u001b[0m\u001b[1;33m\u001b[0m\u001b[1;33m\u001b[0m\u001b[0m\n\u001b[0m\u001b[0;32m    397\u001b[0m         \u001b[1;32mexcept\u001b[0m \u001b[0mTypeError\u001b[0m \u001b[1;32mas\u001b[0m \u001b[0me\u001b[0m\u001b[1;33m:\u001b[0m\u001b[1;33m\u001b[0m\u001b[1;33m\u001b[0m\u001b[0m\n",
      "\u001b[1;31mIndexError\u001b[0m: tuple index out of range",
      "\nThe above exception was the direct cause of the following exception:\n",
      "\u001b[1;31mNetworkXError\u001b[0m                             Traceback (most recent call last)",
      "\u001b[1;32m<ipython-input-5-0f4a856f7845>\u001b[0m in \u001b[0;36m<module>\u001b[1;34m\u001b[0m\n\u001b[0;32m     17\u001b[0m \u001b[0mG1\u001b[0m\u001b[1;33m.\u001b[0m\u001b[0madd_weighted_edges_from\u001b[0m\u001b[1;33m(\u001b[0m\u001b[0medges\u001b[0m\u001b[1;33m)\u001b[0m\u001b[1;33m\u001b[0m\u001b[1;33m\u001b[0m\u001b[0m\n\u001b[0;32m     18\u001b[0m \u001b[0mweight\u001b[0m \u001b[1;33m=\u001b[0m \u001b[0mnx\u001b[0m\u001b[1;33m.\u001b[0m\u001b[0mget_edge_attributes\u001b[0m\u001b[1;33m(\u001b[0m\u001b[0mG1\u001b[0m\u001b[1;33m,\u001b[0m \u001b[1;34m'weight'\u001b[0m\u001b[1;33m)\u001b[0m\u001b[1;33m\u001b[0m\u001b[1;33m\u001b[0m\u001b[0m\n\u001b[1;32m---> 19\u001b[1;33m \u001b[0mnx\u001b[0m\u001b[1;33m.\u001b[0m\u001b[0mdraw\u001b[0m\u001b[1;33m(\u001b[0m\u001b[0mG1\u001b[0m\u001b[1;33m,\u001b[0m \u001b[0mpos\u001b[0m\u001b[1;33m=\u001b[0m\u001b[0mnx\u001b[0m\u001b[1;33m.\u001b[0m\u001b[0mspring_layout\u001b[0m\u001b[1;33m(\u001b[0m\u001b[0mG1\u001b[0m\u001b[1;33m)\u001b[0m\u001b[1;33m,\u001b[0m \u001b[0mwith_labels\u001b[0m \u001b[1;33m=\u001b[0m \u001b[1;32mTrue\u001b[0m\u001b[1;33m)\u001b[0m\u001b[1;33m\u001b[0m\u001b[1;33m\u001b[0m\u001b[0m\n\u001b[0m\u001b[0;32m     20\u001b[0m \u001b[0mnx\u001b[0m\u001b[1;33m.\u001b[0m\u001b[0mdraw_networkx_edge_labels\u001b[0m\u001b[1;33m(\u001b[0m\u001b[0mG1\u001b[0m\u001b[1;33m,\u001b[0m\u001b[0mpos\u001b[0m\u001b[1;33m=\u001b[0m\u001b[0mnx\u001b[0m\u001b[1;33m.\u001b[0m\u001b[0mspring_layout\u001b[0m\u001b[1;33m(\u001b[0m\u001b[0mG1\u001b[0m\u001b[1;33m)\u001b[0m\u001b[1;33m,\u001b[0m\u001b[0medge_labels\u001b[0m \u001b[1;33m=\u001b[0m \u001b[0mweight\u001b[0m\u001b[1;33m)\u001b[0m\u001b[1;33m\u001b[0m\u001b[1;33m\u001b[0m\u001b[0m\n",
      "\u001b[1;32mC:\\ProgramData\\Anaconda3\\lib\\site-packages\\decorator.py\u001b[0m in \u001b[0;36mfun\u001b[1;34m(*args, **kw)\u001b[0m\n\u001b[0;32m    229\u001b[0m             \u001b[1;32mif\u001b[0m \u001b[1;32mnot\u001b[0m \u001b[0mkwsyntax\u001b[0m\u001b[1;33m:\u001b[0m\u001b[1;33m\u001b[0m\u001b[1;33m\u001b[0m\u001b[0m\n\u001b[0;32m    230\u001b[0m                 \u001b[0margs\u001b[0m\u001b[1;33m,\u001b[0m \u001b[0mkw\u001b[0m \u001b[1;33m=\u001b[0m \u001b[0mfix\u001b[0m\u001b[1;33m(\u001b[0m\u001b[0margs\u001b[0m\u001b[1;33m,\u001b[0m \u001b[0mkw\u001b[0m\u001b[1;33m,\u001b[0m \u001b[0msig\u001b[0m\u001b[1;33m)\u001b[0m\u001b[1;33m\u001b[0m\u001b[1;33m\u001b[0m\u001b[0m\n\u001b[1;32m--> 231\u001b[1;33m             \u001b[1;32mreturn\u001b[0m \u001b[0mcaller\u001b[0m\u001b[1;33m(\u001b[0m\u001b[0mfunc\u001b[0m\u001b[1;33m,\u001b[0m \u001b[1;33m*\u001b[0m\u001b[1;33m(\u001b[0m\u001b[0mextras\u001b[0m \u001b[1;33m+\u001b[0m \u001b[0margs\u001b[0m\u001b[1;33m)\u001b[0m\u001b[1;33m,\u001b[0m \u001b[1;33m**\u001b[0m\u001b[0mkw\u001b[0m\u001b[1;33m)\u001b[0m\u001b[1;33m\u001b[0m\u001b[1;33m\u001b[0m\u001b[0m\n\u001b[0m\u001b[0;32m    232\u001b[0m     \u001b[0mfun\u001b[0m\u001b[1;33m.\u001b[0m\u001b[0m__name__\u001b[0m \u001b[1;33m=\u001b[0m \u001b[0mfunc\u001b[0m\u001b[1;33m.\u001b[0m\u001b[0m__name__\u001b[0m\u001b[1;33m\u001b[0m\u001b[1;33m\u001b[0m\u001b[0m\n\u001b[0;32m    233\u001b[0m     \u001b[0mfun\u001b[0m\u001b[1;33m.\u001b[0m\u001b[0m__doc__\u001b[0m \u001b[1;33m=\u001b[0m \u001b[0mfunc\u001b[0m\u001b[1;33m.\u001b[0m\u001b[0m__doc__\u001b[0m\u001b[1;33m\u001b[0m\u001b[1;33m\u001b[0m\u001b[0m\n",
      "\u001b[1;32mC:\\ProgramData\\Anaconda3\\lib\\site-packages\\networkx\\utils\\decorators.py\u001b[0m in \u001b[0;36m_random_state\u001b[1;34m(func, *args, **kwargs)\u001b[0m\n\u001b[0;32m    398\u001b[0m             \u001b[1;32mraise\u001b[0m \u001b[0mnx\u001b[0m\u001b[1;33m.\u001b[0m\u001b[0mNetworkXError\u001b[0m\u001b[1;33m(\u001b[0m\u001b[1;34m\"random_state_index must be an integer\"\u001b[0m\u001b[1;33m)\u001b[0m \u001b[1;32mfrom\u001b[0m \u001b[0me\u001b[0m\u001b[1;33m\u001b[0m\u001b[1;33m\u001b[0m\u001b[0m\n\u001b[0;32m    399\u001b[0m         \u001b[1;32mexcept\u001b[0m \u001b[0mIndexError\u001b[0m \u001b[1;32mas\u001b[0m \u001b[0me\u001b[0m\u001b[1;33m:\u001b[0m\u001b[1;33m\u001b[0m\u001b[1;33m\u001b[0m\u001b[0m\n\u001b[1;32m--> 400\u001b[1;33m             \u001b[1;32mraise\u001b[0m \u001b[0mnx\u001b[0m\u001b[1;33m.\u001b[0m\u001b[0mNetworkXError\u001b[0m\u001b[1;33m(\u001b[0m\u001b[1;34m\"random_state_index is incorrect\"\u001b[0m\u001b[1;33m)\u001b[0m \u001b[1;32mfrom\u001b[0m \u001b[0me\u001b[0m\u001b[1;33m\u001b[0m\u001b[1;33m\u001b[0m\u001b[0m\n\u001b[0m\u001b[0;32m    401\u001b[0m \u001b[1;33m\u001b[0m\u001b[0m\n\u001b[0;32m    402\u001b[0m         \u001b[1;31m# Create a numpy.random.RandomState instance\u001b[0m\u001b[1;33m\u001b[0m\u001b[1;33m\u001b[0m\u001b[1;33m\u001b[0m\u001b[0m\n",
      "\u001b[1;31mNetworkXError\u001b[0m: random_state_index is incorrect"
     ]
    }
   ],
   "source": [
    "nodes = ['A','B','C','E','F','G','H','I']\n",
    "edges = [('A','C',118),('A','E',140),('A','B',75),('E','G',80),('E','F',90),('F','I',211),('G','H',97),('H','I',101)]\n",
    "H = dict([('A',366), ('B',374), ('C',329), ('D',244),('E',253),('F',178), ('G',193), ('H',98),('I',0)])\n",
    "adj = {\n",
    "    'A':[(118,'C'),(75,'B'),(140,'E')],\n",
    "    'B':[],\n",
    "    'C':[],\n",
    "    'E':[(90,'F'),(80,'G')],\n",
    "    'F':[(211,'I')],\n",
    "    'G':[(97,'H')],\n",
    "    'H':[(101,'I')],\n",
    "    'I':[]\n",
    "}\n",
    "import networkx as nx\n",
    "G1 = nx.DiGraph()\n",
    "G1.add_nodes_from(nodes)\n",
    "G1.add_weighted_edges_from(edges)\n",
    "weight = nx.get_edge_attributes(G1, 'weight')\n",
    "nx.draw(G1, pos=nx.spring_layout(G1), with_labels = True)\n",
    "nx.draw_networkx_edge_labels(G1,pos=nx.spring_layout(G1),edge_labels = weight)"
   ]
  },
  {
   "cell_type": "code",
   "execution_count": 6,
   "id": "1a2525e4",
   "metadata": {},
   "outputs": [
    {
     "name": "stdout",
     "output_type": "stream",
     "text": [
      "A -> E -> F -> I\n",
      "Goal reached\n"
     ]
    }
   ],
   "source": [
    "if greedy_best_first_search(nodes,edges,H,adj,nodes[0],nodes[-1]):\n",
    "    print('Goal reached')\n",
    "else:\n",
    "    print(\"Goal not reached\")"
   ]
  },
  {
   "cell_type": "code",
   "execution_count": 7,
   "id": "881c8583",
   "metadata": {},
   "outputs": [],
   "source": [
    "ans = []\n",
    "nodes = ['S','A','B','C','E','F','H','I','G']\n",
    "edges = [('S','A',3),('S','B',2),('A','C',4),('A','D',1),('B','E',3),('B','F',1),('E','H',5),('F','I',2),('F','G',3)]\n",
    "H = dict([('A',12), ('B',4), ('C',7), ('D',3),('E',8),('F',2), ('G',0), ('H',4),('I',9),('S',13)])\n",
    "adj = {\n",
    "    'S':[(3,'A'),(2,'B')],\n",
    "    'A':[(4,'C'),(1,'D')],\n",
    "    'B':[(3,'E'),(1,'F')],\n",
    "    'C':[],\n",
    "    'D':[],\n",
    "    'E':[(5,'H')],\n",
    "    'F':[(2,'I'),(3,'G')],\n",
    "    'G':[],\n",
    "    'H':[],\n",
    "    'I':[]\n",
    "}"
   ]
  },
  {
   "cell_type": "code",
   "execution_count": 8,
   "id": "e47e69ea",
   "metadata": {},
   "outputs": [
    {
     "name": "stdout",
     "output_type": "stream",
     "text": [
      "S -> B -> F -> G\n",
      "Goal reached\n"
     ]
    }
   ],
   "source": [
    "if greedy_best_first_search(nodes,edges,H,adj,'S','G'):\n",
    "    print('Goal reached')\n",
    "else:\n",
    "    print(\"Goal not reached\")"
   ]
  },
  {
   "cell_type": "code",
   "execution_count": null,
   "id": "d6cef967",
   "metadata": {},
   "outputs": [],
   "source": []
  }
 ],
 "metadata": {
  "kernelspec": {
   "display_name": "Python 3",
   "language": "python",
   "name": "python3"
  },
  "language_info": {
   "codemirror_mode": {
    "name": "ipython",
    "version": 3
   },
   "file_extension": ".py",
   "mimetype": "text/x-python",
   "name": "python",
   "nbconvert_exporter": "python",
   "pygments_lexer": "ipython3",
   "version": "3.8.8"
  }
 },
 "nbformat": 4,
 "nbformat_minor": 5
}
